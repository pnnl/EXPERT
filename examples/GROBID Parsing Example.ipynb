{
 "cells": [
  {
   "cell_type": "code",
   "execution_count": 1,
   "metadata": {},
   "outputs": [],
   "source": [
    "from expert import pdf_parsing as pdf"
   ]
  },
  {
   "cell_type": "markdown",
   "metadata": {},
   "source": [
    "## Single XML file\n",
    "Use fn to specify XML file and json_dir to specify output directory for JSON files."
   ]
  },
  {
   "cell_type": "code",
   "execution_count": 2,
   "metadata": {},
   "outputs": [],
   "source": [
    "parser = pdf.GrobidParser(fn='/data/PDF_data/ACL/data/parsed_pdfs/li-huang-2016-uta.tei.xml',\n",
    "                         json_dir='./')"
   ]
  },
  {
   "cell_type": "code",
   "execution_count": 3,
   "metadata": {},
   "outputs": [
    {
     "name": "stdout",
     "output_type": "stream",
     "text": [
      "Parsing /data/PDF_data/ACL/data/parsed_pdfs/li-huang-2016-uta.tei.xml\n",
      "Saving to .//li-huang-2016-uta.tei.json\n"
     ]
    }
   ],
   "source": [
    "parser.to_json()"
   ]
  },
  {
   "cell_type": "code",
   "execution_count": 4,
   "metadata": {},
   "outputs": [
    {
     "name": "stderr",
     "output_type": "stream",
     "text": [
      "100%|██████████| 1/1 [00:00<00:00, 176.92it/s]"
     ]
    },
    {
     "name": "stdout",
     "output_type": "stream",
     "text": [
      "['.//li-huang-2016-uta.tei.json']\n",
      "Extracting authors from 1 files\n"
     ]
    },
    {
     "name": "stderr",
     "output_type": "stream",
     "text": [
      "\n"
     ]
    },
    {
     "data": {
      "text/html": [
       "<div>\n",
       "<style scoped>\n",
       "    .dataframe tbody tr th:only-of-type {\n",
       "        vertical-align: middle;\n",
       "    }\n",
       "\n",
       "    .dataframe tbody tr th {\n",
       "        vertical-align: top;\n",
       "    }\n",
       "\n",
       "    .dataframe thead th {\n",
       "        text-align: right;\n",
       "    }\n",
       "</style>\n",
       "<table border=\"1\" class=\"dataframe\">\n",
       "  <thead>\n",
       "    <tr style=\"text-align: right;\">\n",
       "      <th></th>\n",
       "      <th>first</th>\n",
       "      <th>surname</th>\n",
       "      <th>paper</th>\n",
       "      <th>author_order</th>\n",
       "      <th>last_author</th>\n",
       "      <th>first_author</th>\n",
       "    </tr>\n",
       "  </thead>\n",
       "  <tbody>\n",
       "    <tr>\n",
       "      <th>0</th>\n",
       "      <td>Peng</td>\n",
       "      <td>Li</td>\n",
       "      <td>li-huang-2016-uta</td>\n",
       "      <td>0</td>\n",
       "      <td>False</td>\n",
       "      <td>True</td>\n",
       "    </tr>\n",
       "    <tr>\n",
       "      <th>1</th>\n",
       "      <td>Heng</td>\n",
       "      <td>Huang</td>\n",
       "      <td>li-huang-2016-uta</td>\n",
       "      <td>1</td>\n",
       "      <td>True</td>\n",
       "      <td>False</td>\n",
       "    </tr>\n",
       "  </tbody>\n",
       "</table>\n",
       "</div>"
      ],
      "text/plain": [
       "  first surname              paper  author_order  last_author  first_author\n",
       "0  Peng      Li  li-huang-2016-uta             0        False          True\n",
       "1  Heng   Huang  li-huang-2016-uta             1         True         False"
      ]
     },
     "execution_count": 4,
     "metadata": {},
     "output_type": "execute_result"
    }
   ],
   "source": [
    "parser.authors_from_json()"
   ]
  },
  {
   "cell_type": "markdown",
   "metadata": {},
   "source": [
    "## Multiple XML files\n",
    "Use wildcard notation to specify set of XML files"
   ]
  },
  {
   "cell_type": "code",
   "execution_count": 5,
   "metadata": {},
   "outputs": [],
   "source": [
    "parser = pdf.GrobidParser(xml_dir='/data/PDF_data/ACL/data/parsed_pdfs/li-huang*.xml')"
   ]
  },
  {
   "cell_type": "code",
   "execution_count": 6,
   "metadata": {},
   "outputs": [
    {
     "name": "stdout",
     "output_type": "stream",
     "text": [
      "Parsing files in /data/PDF_data/ACL/data/parsed_pdfs/li-huang*.xml and saving to ./\n"
     ]
    },
    {
     "name": "stderr",
     "output_type": "stream",
     "text": [
      "100%|██████████| 4/4 [00:00<00:00, 28.80it/s]\n"
     ]
    }
   ],
   "source": [
    "parser.to_json()"
   ]
  },
  {
   "cell_type": "code",
   "execution_count": 7,
   "metadata": {},
   "outputs": [
    {
     "name": "stderr",
     "output_type": "stream",
     "text": [
      "100%|██████████| 4/4 [00:00<00:00, 193.15it/s]"
     ]
    },
    {
     "name": "stdout",
     "output_type": "stream",
     "text": [
      "['.//li-huang-2016-uta.tei.json', './/li-huang-2016-uta-dlnlp.tei.json', './/li-huang-2009-word.tei.json', './/li-huang-2009-sentiment.tei.json']\n",
      "Extracting authors from 4 files\n"
     ]
    },
    {
     "name": "stderr",
     "output_type": "stream",
     "text": [
      "\n"
     ]
    },
    {
     "data": {
      "text/html": [
       "<div>\n",
       "<style scoped>\n",
       "    .dataframe tbody tr th:only-of-type {\n",
       "        vertical-align: middle;\n",
       "    }\n",
       "\n",
       "    .dataframe tbody tr th {\n",
       "        vertical-align: top;\n",
       "    }\n",
       "\n",
       "    .dataframe thead th {\n",
       "        text-align: right;\n",
       "    }\n",
       "</style>\n",
       "<table border=\"1\" class=\"dataframe\">\n",
       "  <thead>\n",
       "    <tr style=\"text-align: right;\">\n",
       "      <th></th>\n",
       "      <th>first</th>\n",
       "      <th>surname</th>\n",
       "      <th>paper</th>\n",
       "      <th>author_order</th>\n",
       "      <th>last_author</th>\n",
       "      <th>first_author</th>\n",
       "      <th>email</th>\n",
       "      <th>org_department_1</th>\n",
       "      <th>org_institution_1</th>\n",
       "    </tr>\n",
       "  </thead>\n",
       "  <tbody>\n",
       "    <tr>\n",
       "      <th>0</th>\n",
       "      <td>Peng</td>\n",
       "      <td>Li</td>\n",
       "      <td>li-huang-2016-uta</td>\n",
       "      <td>0</td>\n",
       "      <td>False</td>\n",
       "      <td>True</td>\n",
       "      <td>NaN</td>\n",
       "      <td>NaN</td>\n",
       "      <td>NaN</td>\n",
       "    </tr>\n",
       "    <tr>\n",
       "      <th>1</th>\n",
       "      <td>Heng</td>\n",
       "      <td>Huang</td>\n",
       "      <td>li-huang-2016-uta</td>\n",
       "      <td>1</td>\n",
       "      <td>True</td>\n",
       "      <td>False</td>\n",
       "      <td>NaN</td>\n",
       "      <td>NaN</td>\n",
       "      <td>NaN</td>\n",
       "    </tr>\n",
       "    <tr>\n",
       "      <th>2</th>\n",
       "      <td>Peng</td>\n",
       "      <td>Li</td>\n",
       "      <td>li-huang-2016-uta-dlnlp</td>\n",
       "      <td>0</td>\n",
       "      <td>False</td>\n",
       "      <td>True</td>\n",
       "      <td>NaN</td>\n",
       "      <td>NaN</td>\n",
       "      <td>NaN</td>\n",
       "    </tr>\n",
       "    <tr>\n",
       "      <th>3</th>\n",
       "      <td>Heng</td>\n",
       "      <td>Huang</td>\n",
       "      <td>li-huang-2016-uta-dlnlp</td>\n",
       "      <td>1</td>\n",
       "      <td>True</td>\n",
       "      <td>False</td>\n",
       "      <td>NaN</td>\n",
       "      <td>NaN</td>\n",
       "      <td>NaN</td>\n",
       "    </tr>\n",
       "    <tr>\n",
       "      <th>4</th>\n",
       "      <td>Shoushan</td>\n",
       "      <td>Li</td>\n",
       "      <td>li-huang-2009-word</td>\n",
       "      <td>0</td>\n",
       "      <td>False</td>\n",
       "      <td>True</td>\n",
       "      <td>shoushan.li@gmail.com</td>\n",
       "      <td>Department of Chinese and Bilingual Studies</td>\n",
       "      <td>The Hong Kong Polytechnic University</td>\n",
       "    </tr>\n",
       "    <tr>\n",
       "      <th>5</th>\n",
       "      <td>Chu-Ren</td>\n",
       "      <td>Huang</td>\n",
       "      <td>li-huang-2009-word</td>\n",
       "      <td>1</td>\n",
       "      <td>True</td>\n",
       "      <td>False</td>\n",
       "      <td>churenhuang@gmail.com</td>\n",
       "      <td>Department of Chinese and Bilingual Studies</td>\n",
       "      <td>The Hong Kong Polytechnic University</td>\n",
       "    </tr>\n",
       "    <tr>\n",
       "      <th>6</th>\n",
       "      <td>Shoushan</td>\n",
       "      <td>Li</td>\n",
       "      <td>li-huang-2009-sentiment</td>\n",
       "      <td>0</td>\n",
       "      <td>False</td>\n",
       "      <td>True</td>\n",
       "      <td>shoushan.li@gmail.com</td>\n",
       "      <td>Department of Chinese and Bilingual Studies</td>\n",
       "      <td>The Hong Kong Polytechnic University</td>\n",
       "    </tr>\n",
       "    <tr>\n",
       "      <th>7</th>\n",
       "      <td>Chu-Ren</td>\n",
       "      <td>Huang</td>\n",
       "      <td>li-huang-2009-sentiment</td>\n",
       "      <td>1</td>\n",
       "      <td>True</td>\n",
       "      <td>False</td>\n",
       "      <td>churenhuang@gmail.com</td>\n",
       "      <td>Department of Chinese and Bilingual Studies</td>\n",
       "      <td>The Hong Kong Polytechnic University</td>\n",
       "    </tr>\n",
       "  </tbody>\n",
       "</table>\n",
       "</div>"
      ],
      "text/plain": [
       "      first surname                    paper  author_order  last_author  \\\n",
       "0      Peng      Li        li-huang-2016-uta             0        False   \n",
       "1      Heng   Huang        li-huang-2016-uta             1         True   \n",
       "2      Peng      Li  li-huang-2016-uta-dlnlp             0        False   \n",
       "3      Heng   Huang  li-huang-2016-uta-dlnlp             1         True   \n",
       "4  Shoushan      Li       li-huang-2009-word             0        False   \n",
       "5   Chu-Ren   Huang       li-huang-2009-word             1         True   \n",
       "6  Shoushan      Li  li-huang-2009-sentiment             0        False   \n",
       "7   Chu-Ren   Huang  li-huang-2009-sentiment             1         True   \n",
       "\n",
       "   first_author                  email  \\\n",
       "0          True                    NaN   \n",
       "1         False                    NaN   \n",
       "2          True                    NaN   \n",
       "3         False                    NaN   \n",
       "4          True  shoushan.li@gmail.com   \n",
       "5         False  churenhuang@gmail.com   \n",
       "6          True  shoushan.li@gmail.com   \n",
       "7         False  churenhuang@gmail.com   \n",
       "\n",
       "                              org_department_1  \\\n",
       "0                                          NaN   \n",
       "1                                          NaN   \n",
       "2                                          NaN   \n",
       "3                                          NaN   \n",
       "4  Department of Chinese and Bilingual Studies   \n",
       "5  Department of Chinese and Bilingual Studies   \n",
       "6  Department of Chinese and Bilingual Studies   \n",
       "7  Department of Chinese and Bilingual Studies   \n",
       "\n",
       "                      org_institution_1  \n",
       "0                                   NaN  \n",
       "1                                   NaN  \n",
       "2                                   NaN  \n",
       "3                                   NaN  \n",
       "4  The Hong Kong Polytechnic University  \n",
       "5  The Hong Kong Polytechnic University  \n",
       "6  The Hong Kong Polytechnic University  \n",
       "7  The Hong Kong Polytechnic University  "
      ]
     },
     "execution_count": 7,
     "metadata": {},
     "output_type": "execute_result"
    }
   ],
   "source": [
    "parser.authors_from_json()"
   ]
  },
  {
   "cell_type": "markdown",
   "metadata": {},
   "source": [
    "## Multiple JSON files\n",
    "Don't provide any XML files as input and use wildcard notation for json_dir"
   ]
  },
  {
   "cell_type": "code",
   "execution_count": 10,
   "metadata": {},
   "outputs": [],
   "source": [
    "parser = pdf.GrobidParser(json_dir='./li-huang*.json')"
   ]
  },
  {
   "cell_type": "code",
   "execution_count": 11,
   "metadata": {},
   "outputs": [
    {
     "name": "stderr",
     "output_type": "stream",
     "text": [
      "100%|██████████| 4/4 [00:00<00:00, 1488.40it/s]"
     ]
    },
    {
     "name": "stdout",
     "output_type": "stream",
     "text": [
      "['./li-huang-2016-uta.tei.json', './li-huang-2016-uta-dlnlp.tei.json', './li-huang-2009-word.tei.json', './li-huang-2009-sentiment.tei.json']\n",
      "Extracting authors from 4 files\n"
     ]
    },
    {
     "name": "stderr",
     "output_type": "stream",
     "text": [
      "\n"
     ]
    },
    {
     "data": {
      "text/html": [
       "<div>\n",
       "<style scoped>\n",
       "    .dataframe tbody tr th:only-of-type {\n",
       "        vertical-align: middle;\n",
       "    }\n",
       "\n",
       "    .dataframe tbody tr th {\n",
       "        vertical-align: top;\n",
       "    }\n",
       "\n",
       "    .dataframe thead th {\n",
       "        text-align: right;\n",
       "    }\n",
       "</style>\n",
       "<table border=\"1\" class=\"dataframe\">\n",
       "  <thead>\n",
       "    <tr style=\"text-align: right;\">\n",
       "      <th></th>\n",
       "      <th>first</th>\n",
       "      <th>surname</th>\n",
       "      <th>paper</th>\n",
       "      <th>author_order</th>\n",
       "      <th>last_author</th>\n",
       "      <th>first_author</th>\n",
       "      <th>email</th>\n",
       "      <th>org_department_1</th>\n",
       "      <th>org_institution_1</th>\n",
       "    </tr>\n",
       "  </thead>\n",
       "  <tbody>\n",
       "    <tr>\n",
       "      <th>0</th>\n",
       "      <td>Peng</td>\n",
       "      <td>Li</td>\n",
       "      <td>li-huang-2016-uta</td>\n",
       "      <td>0</td>\n",
       "      <td>False</td>\n",
       "      <td>True</td>\n",
       "      <td>NaN</td>\n",
       "      <td>NaN</td>\n",
       "      <td>NaN</td>\n",
       "    </tr>\n",
       "    <tr>\n",
       "      <th>1</th>\n",
       "      <td>Heng</td>\n",
       "      <td>Huang</td>\n",
       "      <td>li-huang-2016-uta</td>\n",
       "      <td>1</td>\n",
       "      <td>True</td>\n",
       "      <td>False</td>\n",
       "      <td>NaN</td>\n",
       "      <td>NaN</td>\n",
       "      <td>NaN</td>\n",
       "    </tr>\n",
       "    <tr>\n",
       "      <th>2</th>\n",
       "      <td>Peng</td>\n",
       "      <td>Li</td>\n",
       "      <td>li-huang-2016-uta-dlnlp</td>\n",
       "      <td>0</td>\n",
       "      <td>False</td>\n",
       "      <td>True</td>\n",
       "      <td>NaN</td>\n",
       "      <td>NaN</td>\n",
       "      <td>NaN</td>\n",
       "    </tr>\n",
       "    <tr>\n",
       "      <th>3</th>\n",
       "      <td>Heng</td>\n",
       "      <td>Huang</td>\n",
       "      <td>li-huang-2016-uta-dlnlp</td>\n",
       "      <td>1</td>\n",
       "      <td>True</td>\n",
       "      <td>False</td>\n",
       "      <td>NaN</td>\n",
       "      <td>NaN</td>\n",
       "      <td>NaN</td>\n",
       "    </tr>\n",
       "    <tr>\n",
       "      <th>4</th>\n",
       "      <td>Shoushan</td>\n",
       "      <td>Li</td>\n",
       "      <td>li-huang-2009-word</td>\n",
       "      <td>0</td>\n",
       "      <td>False</td>\n",
       "      <td>True</td>\n",
       "      <td>shoushan.li@gmail.com</td>\n",
       "      <td>Department of Chinese and Bilingual Studies</td>\n",
       "      <td>The Hong Kong Polytechnic University</td>\n",
       "    </tr>\n",
       "    <tr>\n",
       "      <th>5</th>\n",
       "      <td>Chu-Ren</td>\n",
       "      <td>Huang</td>\n",
       "      <td>li-huang-2009-word</td>\n",
       "      <td>1</td>\n",
       "      <td>True</td>\n",
       "      <td>False</td>\n",
       "      <td>churenhuang@gmail.com</td>\n",
       "      <td>Department of Chinese and Bilingual Studies</td>\n",
       "      <td>The Hong Kong Polytechnic University</td>\n",
       "    </tr>\n",
       "    <tr>\n",
       "      <th>6</th>\n",
       "      <td>Shoushan</td>\n",
       "      <td>Li</td>\n",
       "      <td>li-huang-2009-sentiment</td>\n",
       "      <td>0</td>\n",
       "      <td>False</td>\n",
       "      <td>True</td>\n",
       "      <td>shoushan.li@gmail.com</td>\n",
       "      <td>Department of Chinese and Bilingual Studies</td>\n",
       "      <td>The Hong Kong Polytechnic University</td>\n",
       "    </tr>\n",
       "    <tr>\n",
       "      <th>7</th>\n",
       "      <td>Chu-Ren</td>\n",
       "      <td>Huang</td>\n",
       "      <td>li-huang-2009-sentiment</td>\n",
       "      <td>1</td>\n",
       "      <td>True</td>\n",
       "      <td>False</td>\n",
       "      <td>churenhuang@gmail.com</td>\n",
       "      <td>Department of Chinese and Bilingual Studies</td>\n",
       "      <td>The Hong Kong Polytechnic University</td>\n",
       "    </tr>\n",
       "  </tbody>\n",
       "</table>\n",
       "</div>"
      ],
      "text/plain": [
       "      first surname                    paper  author_order  last_author  \\\n",
       "0      Peng      Li        li-huang-2016-uta             0        False   \n",
       "1      Heng   Huang        li-huang-2016-uta             1         True   \n",
       "2      Peng      Li  li-huang-2016-uta-dlnlp             0        False   \n",
       "3      Heng   Huang  li-huang-2016-uta-dlnlp             1         True   \n",
       "4  Shoushan      Li       li-huang-2009-word             0        False   \n",
       "5   Chu-Ren   Huang       li-huang-2009-word             1         True   \n",
       "6  Shoushan      Li  li-huang-2009-sentiment             0        False   \n",
       "7   Chu-Ren   Huang  li-huang-2009-sentiment             1         True   \n",
       "\n",
       "   first_author                  email  \\\n",
       "0          True                    NaN   \n",
       "1         False                    NaN   \n",
       "2          True                    NaN   \n",
       "3         False                    NaN   \n",
       "4          True  shoushan.li@gmail.com   \n",
       "5         False  churenhuang@gmail.com   \n",
       "6          True  shoushan.li@gmail.com   \n",
       "7         False  churenhuang@gmail.com   \n",
       "\n",
       "                              org_department_1  \\\n",
       "0                                          NaN   \n",
       "1                                          NaN   \n",
       "2                                          NaN   \n",
       "3                                          NaN   \n",
       "4  Department of Chinese and Bilingual Studies   \n",
       "5  Department of Chinese and Bilingual Studies   \n",
       "6  Department of Chinese and Bilingual Studies   \n",
       "7  Department of Chinese and Bilingual Studies   \n",
       "\n",
       "                      org_institution_1  \n",
       "0                                   NaN  \n",
       "1                                   NaN  \n",
       "2                                   NaN  \n",
       "3                                   NaN  \n",
       "4  The Hong Kong Polytechnic University  \n",
       "5  The Hong Kong Polytechnic University  \n",
       "6  The Hong Kong Polytechnic University  \n",
       "7  The Hong Kong Polytechnic University  "
      ]
     },
     "execution_count": 11,
     "metadata": {},
     "output_type": "execute_result"
    }
   ],
   "source": [
    "parser.authors_from_json()"
   ]
  },
  {
   "cell_type": "code",
   "execution_count": null,
   "metadata": {},
   "outputs": [],
   "source": []
  }
 ],
 "metadata": {
  "kernelspec": {
   "display_name": "expert",
   "language": "python",
   "name": "expert"
  },
  "language_info": {
   "codemirror_mode": {
    "name": "ipython",
    "version": 3
   },
   "file_extension": ".py",
   "mimetype": "text/x-python",
   "name": "python",
   "nbconvert_exporter": "python",
   "pygments_lexer": "ipython3",
   "version": "3.8.8"
  }
 },
 "nbformat": 4,
 "nbformat_minor": 4
}
