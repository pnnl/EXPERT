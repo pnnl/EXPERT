{
 "cells": [
  {
   "cell_type": "code",
   "execution_count": 1,
   "metadata": {},
   "outputs": [],
   "source": [
    "import pandas as pd\n",
    "import os \n",
    "from IPython.display import display\n",
    "\n",
    "import matplotlib.pyplot as plt\n",
    "%matplotlib inline"
   ]
  },
  {
   "cell_type": "code",
   "execution_count": 2,
   "metadata": {},
   "outputs": [],
   "source": [
    "import expert\n",
    "import imp; _ = imp.reload(expert) "
   ]
  },
  {
   "cell_type": "markdown",
   "metadata": {},
   "source": [
    "## Prepare data\n",
    "- load nodes and edges\n",
    "- define the savedir path where the merged node and edge files should be saved as you iterate "
   ]
  },
  {
   "cell_type": "code",
   "execution_count": 3,
   "metadata": {},
   "outputs": [
    {
     "name": "stdout",
     "output_type": "stream",
     "text": [
      "2021-06-08 20:37:49.218607\n",
      "Node Files:\n",
      "\texample_data/Arxiv_deduplicated/Arxiv_Nodes_Topic.jsonl\n",
      "\texample_data/Arxiv_deduplicated/Arxiv_Nodes_Scientist.jsonl\n",
      "\texample_data/Arxiv_deduplicated/Arxiv_Nodes_Source.jsonl\n",
      "\texample_data/Arxiv_deduplicated/Arxiv_Nodes_Paper.jsonl\n",
      "\n",
      "Edge Files:\n",
      "\texample_data/Arxiv_deduplicated/Arxiv_Links_Related To.jsonl\n",
      "\texample_data/Arxiv_deduplicated/Arxiv_Links_Author Of.jsonl\n",
      "\texample_data/Arxiv_deduplicated/Arxiv_Links_Published In.jsonl\n",
      "2021-06-08 20:37:49.221173\n",
      "\n",
      "Loading nodes...\n",
      "(164634, 7)\n",
      "           nodeType\n",
      "Scientist     99579\n",
      "Paper         37093\n",
      "Source        26496\n",
      "Topic          1466\n",
      "2021-06-08 20:37:50.646958\n",
      "\n",
      "Loading edges...\n",
      "(354547, 6)\n",
      "              edgeType\n",
      "Author Of       200467\n",
      "Related To      127429\n",
      "Published In     26651\n"
     ]
    }
   ],
   "source": [
    "datasource = 'Arxiv'\n",
    "savedir = f'example_data/{datasource}_merged/'\n",
    "\n",
    "\n",
    "nodes, edges = expert.metadata.publications.loadData(datasource, \n",
    "                                                     datadir=f'example_data/{datasource}_sample/')"
   ]
  },
  {
   "cell_type": "code",
   "execution_count": 4,
   "metadata": {},
   "outputs": [
    {
     "data": {
      "text/plain": [
       "'example_data/Arxiv_merged/'"
      ]
     },
     "execution_count": 4,
     "metadata": {},
     "output_type": "execute_result"
    }
   ],
   "source": [
    "savedir"
   ]
  },
  {
   "cell_type": "markdown",
   "metadata": {},
   "source": [
    "## Instantiate iterativeMerger object\n",
    "- Required: \n",
    "    - **nodes** - nodes dataframe\n",
    "    - **edges** - edges dataframe\n",
    "    - **savedir** - directory to save merged nodes/edges and merge history to\n",
    "    - **field** - Specifying the nodeType you want to merge (i.e. 'Scientist') \n",
    "    - **chunksize** - Specifying the number of nodes to work with in each chunk \n",
    "- Optional: \n",
    "     - **saveprefix** - Specifying a prefix to the node/edge files as they are saved (e.g. the datasource name in this example)"
   ]
  },
  {
   "cell_type": "code",
   "execution_count": 5,
   "metadata": {
    "scrolled": true
   },
   "outputs": [
    {
     "name": "stderr",
     "output_type": "stream",
     "text": [
      "\r",
      "  0%|          | 0/1000 [00:00<?, ?it/s]"
     ]
    },
    {
     "name": "stdout",
     "output_type": "stream",
     "text": [
      "setting up chunks for new iteration...\n",
      "shuffle rows...\n",
      "Adding edges to name graph...\n"
     ]
    },
    {
     "name": "stderr",
     "output_type": "stream",
     "text": [
      "100%|██████████| 1000/1000 [00:00<00:00, 10243.93it/s]\n",
      " 67%|██████▋   | 666/1000 [00:00<00:00, 3373.32it/s]"
     ]
    },
    {
     "name": "stdout",
     "output_type": "stream",
     "text": [
      "Getting name part pair connectivities...\n"
     ]
    },
    {
     "name": "stderr",
     "output_type": "stream",
     "text": [
      "100%|██████████| 1000/1000 [00:00<00:00, 3628.17it/s]\n"
     ]
    },
    {
     "name": "stdout",
     "output_type": "stream",
     "text": [
      "1000 Nodes in Chunk 0\n",
      "Character-level tfidf..."
     ]
    },
    {
     "name": "stderr",
     "output_type": "stream",
     "text": [
      "100%|██████████| 23/23 [00:00<00:00, 4859.41it/s]\n",
      "100%|██████████| 23/23 [00:00<00:00, 10988.61it/s]\n",
      "  4%|▍         | 42/998 [00:00<00:02, 416.69it/s]"
     ]
    },
    {
     "name": "stdout",
     "output_type": "stream",
     "text": [
      "0.21 s...23 pairs\n",
      "Word-level tfidf...0.01 s\n",
      "Levenshtein...0.01 s\n",
      "Name parts similarity...0.01 s\n",
      "Initials...\n",
      "0.01 s\n",
      "Name likelihoods..."
     ]
    },
    {
     "name": "stderr",
     "output_type": "stream",
     "text": [
      "100%|██████████| 998/998 [00:02<00:00, 448.08it/s]\n"
     ]
    },
    {
     "name": "stdout",
     "output_type": "stream",
     "text": [
      "2.26 s\n",
      "23 pairs\n",
      "\n",
      " 0:00:02.510550\n",
      "1000 Nodes in Chunk 0\n",
      "Constructing coauthor graph...15.96 s\n",
      "Projecting graph...0.09 s\n",
      "Getting path lengths...0.00 s\n",
      "\n",
      "Constructing colleague graph...0.05 s\n",
      "Projecting graph...0.01 s\n",
      "Getting path lengths...0.00 s\n",
      "\n",
      "\n",
      " 0:00:16.311937\n",
      "Starting Iteration 0..\n"
     ]
    },
    {
     "data": {
      "text/html": [
       "<br>\n",
       "                             <b>Field:</b> Scientist <br>\n",
       "                             <b>Iteration:</b> 0 \n",
       "                             <p>99,579 Nodes (100 Chunks of 1,000 Nodes) <br> 354,547 Edges </p>\n",
       "                             <hr>\n",
       "                             <h3>Active ChunkID = 0</h3>\n",
       "                             <hr>"
      ],
      "text/plain": [
       "<IPython.core.display.HTML object>"
      ]
     },
     "metadata": {},
     "output_type": "display_data"
    }
   ],
   "source": [
    "field = 'Scientist'\n",
    "imerge = expert.entity_resolution.interactiveMerger(nodes, edges, savedir, field, \n",
    "                                                    chunksize=1000, saveprefix=datasource)"
   ]
  },
  {
   "cell_type": "markdown",
   "metadata": {},
   "source": [
    "The interactiveMerger class will deduplicate edges/nodes that have the same properties (displayName, address, nodeType, etc.) under multiple nodeIDs or in multiple edge records"
   ]
  },
  {
   "cell_type": "markdown",
   "metadata": {},
   "source": [
    "## Identify constraints"
   ]
  },
  {
   "cell_type": "code",
   "execution_count": 8,
   "metadata": {},
   "outputs": [
    {
     "data": {
      "image/png": "[encoded data removed]",
      "text/plain": [
       "<Figure size 288x288 with 1 Axes>"
      ]
     },
     "metadata": {
      "needs_background": "light"
     },
     "output_type": "display_data"
    }
   ],
   "source": [
    "imerge.simScatter()"
   ]
  },
  {
   "cell_type": "markdown",
   "metadata": {},
   "source": [
    "### Resolve matched identities using the IdentityMatcher widget \n",
    "By default, **.resolve** uses **metric='text_sim_total'** and **constraints={'text_sim_total':2,'graph_sim_total':0}** but you can pass different metrics/constraints. \n",
    "\n",
    "E.g., **imerge.resolve(metric='text_sim_total', constraints={'text_sim_total':2,'graph_sim_total':-1})**"
   ]
  },
  {
   "cell_type": "code",
   "execution_count": 6,
   "metadata": {},
   "outputs": [
    {
     "data": {
      "text/html": [
       "<b>Metric:</b> text_sim_total <br><b>Constraints</b>: {'text_sim_total': 2, 'graph_sim_total': 0}"
      ],
      "text/plain": [
       "<IPython.core.display.HTML object>"
      ]
     },
     "metadata": {},
     "output_type": "display_data"
    },
    {
     "data": {
      "text/html": [
       "<h3>No potential pairs to resolve given constraints</h3>"
      ],
      "text/plain": [
       "<IPython.core.display.HTML object>"
      ]
     },
     "metadata": {},
     "output_type": "display_data"
    },
    {
     "data": {
      "application/vnd.jupyter.widget-view+json": {
       "model_id": "6d606579d227480c96b521ba4c38f487",
       "version_major": 2,
       "version_minor": 0
      },
      "text/plain": [
       "IdentityMatcher(component='IdentityMatcher', props={'tree': [], 'clusters': [], 'context': {}, 'display': {}, …"
      ]
     },
     "metadata": {},
     "output_type": "display_data"
    }
   ],
   "source": [
    "# default constraints require graph similarity in the context graph, \n",
    "# e.g. shared co-authors, institutions\n",
    "imerge.resolve()"
   ]
  },
  {
   "cell_type": "code",
   "execution_count": 11,
   "metadata": {},
   "outputs": [
    {
     "data": {
      "text/html": [
       "<b>Metric:</b> text_sim_total <br><b>Constraints</b>: {'text_sim_total': 1, 'graph_sim_total': -1}"
      ],
      "text/plain": [
       "<IPython.core.display.HTML object>"
      ]
     },
     "metadata": {},
     "output_type": "display_data"
    },
    {
     "data": {
      "application/vnd.jupyter.widget-view+json": {
       "model_id": "5a0f271ca6f14963a15f7e026c5ed992",
       "version_major": 2,
       "version_minor": 0
      },
      "text/plain": [
       "IdentityMatcher(component='IdentityMatcher', props={'tree': [['Arxiv-Scientist Zhong Chen 118402', 'Arxiv-Scie…"
      ]
     },
     "metadata": {},
     "output_type": "display_data"
    }
   ],
   "source": [
    "imerge.resolve(constraints={'text_sim_total':1,'graph_sim_total':-1})"
   ]
  },
  {
   "cell_type": "markdown",
   "metadata": {},
   "source": [
    "You can see the strong_groups from the IdentityMatcher widget using **imerge.widget.strong_groups**"
   ]
  },
  {
   "cell_type": "code",
   "execution_count": 11,
   "metadata": {},
   "outputs": [
    {
     "data": {
      "text/plain": [
       "[{'Arxiv-Scientist Pascal J. Elahi 137636',\n",
       "  'Arxiv-Scientist Pascal Jahan Elahi 10991'},\n",
       " {'Arxiv-Scientist D. Ruschel Dutra 1611',\n",
       "  'Arxiv-Scientist D. Ruschel-Dutra 123980'},\n",
       " {'Arxiv-Scientist Carole E. Tucker 37485',\n",
       "  'Arxiv-Scientist Carole Tucker 43148'}]"
      ]
     },
     "execution_count": 11,
     "metadata": {},
     "output_type": "execute_result"
    }
   ],
   "source": [
    "imerge.widget.strong_groups"
   ]
  },
  {
   "cell_type": "markdown",
   "metadata": {},
   "source": [
    "### Merge the nodes using the results of your widget interactions. \n",
    "By default, only the strong_groups from the IdentityMatcher are merged. However, you can set the parameter **weak=True** to also merge the weak_groups from the IdentityMatcher (i.e. **imerge.merge(weak=True)**)"
   ]
  },
  {
   "cell_type": "code",
   "execution_count": 12,
   "metadata": {},
   "outputs": [
    {
     "name": "stdout",
     "output_type": "stream",
     "text": [
      "Before merging there are 999 nodes and 354,547 edges\n"
     ]
    },
    {
     "name": "stderr",
     "output_type": "stream",
     "text": [
      "\r",
      "  0%|          | 0/1000 [00:00<?, ?it/s]"
     ]
    },
    {
     "name": "stdout",
     "output_type": "stream",
     "text": [
      "After merging there are 996 nodes and 354,547 edges\n",
      "Reduction:\n",
      "\t -3 (-0.3%)\n",
      "\t -0 (-0.0%)\n",
      "\n",
      "\n",
      "\n",
      "\n",
      "Active Chunk is now Chunk 1\n",
      "1000 Nodes in Chunk 1\n",
      "Adding edges to name graph...\n"
     ]
    },
    {
     "name": "stderr",
     "output_type": "stream",
     "text": [
      "100%|██████████| 1000/1000 [00:00<00:00, 3760.71it/s]\n",
      " 40%|███▉      | 396/1000 [00:00<00:00, 2006.58it/s]"
     ]
    },
    {
     "name": "stdout",
     "output_type": "stream",
     "text": [
      "Getting name part pair connectivities...\n"
     ]
    },
    {
     "name": "stderr",
     "output_type": "stream",
     "text": [
      "100%|██████████| 1000/1000 [00:00<00:00, 2041.25it/s]\n"
     ]
    },
    {
     "name": "stdout",
     "output_type": "stream",
     "text": [
      "Character-level tfidf..."
     ]
    },
    {
     "name": "stderr",
     "output_type": "stream",
     "text": [
      "100%|██████████| 33/33 [00:00<00:00, 7237.23it/s]\n",
      "100%|██████████| 33/33 [00:00<00:00, 3154.33it/s]\n",
      "  3%|▎         | 32/1000 [00:00<00:03, 315.00it/s]"
     ]
    },
    {
     "name": "stdout",
     "output_type": "stream",
     "text": [
      "0.31 s...33 pairs\n",
      "Word-level tfidf...0.01 s\n",
      "Levenshtein...0.00 s\n",
      "Initials...\n",
      "0.01 s\n",
      "Name parts similarity...0.01 s\n",
      "Name likelihoods..."
     ]
    },
    {
     "name": "stderr",
     "output_type": "stream",
     "text": [
      "100%|██████████| 1000/1000 [00:03<00:00, 311.06it/s]\n"
     ]
    },
    {
     "name": "stdout",
     "output_type": "stream",
     "text": [
      "3.28 s\n",
      "33 pairs\n",
      "\n",
      " 0:00:03.640835\n",
      "1000 Nodes in Chunk 1\n",
      "{'nodes': ['Scientist', 'Paper'], 'hops': 2}\n",
      "Constructing coauthor graph...26.55 s\n",
      "Projecting graph...0.10 s\n",
      "Getting path lengths...0.01 s\n",
      "{'nodes': ['Scientist', 'Institution'], 'hops': 1}\n",
      "Constructing colleague graph...0.06 s\n",
      "Projecting graph...0.01 s\n",
      "Getting path lengths...0.00 s\n",
      "\n",
      " 0:00:26.951106\n"
     ]
    }
   ],
   "source": [
    "imerge.merge()"
   ]
  },
  {
   "cell_type": "markdown",
   "metadata": {},
   "source": [
    "### Resolve matched identities for next chunk of nodes\n",
    "**.merge()** updates the interactiveMerger to consider the next chunk, or prints a notification that you have merged all available chunks in the current iteration"
   ]
  },
  {
   "cell_type": "code",
   "execution_count": 13,
   "metadata": {},
   "outputs": [
    {
     "data": {
      "application/vnd.jupyter.widget-view+json": {
       "model_id": "85f271244a064311890c960fa705a051",
       "version_major": 2,
       "version_minor": 0
      },
      "text/plain": [
       "IdentityMatcher(component='IdentityMatcher', props={'tree': [['Arxiv-Scientist D. A. Semenov 149981', 'Arxiv-S…"
      ]
     },
     "metadata": {},
     "output_type": "display_data"
    }
   ],
   "source": [
    "imerge.resolve()"
   ]
  },
  {
   "cell_type": "code",
   "execution_count": 14,
   "metadata": {},
   "outputs": [
    {
     "name": "stdout",
     "output_type": "stream",
     "text": [
      "Before merging there are 1,000 nodes and 354,547 edges\n"
     ]
    },
    {
     "name": "stderr",
     "output_type": "stream",
     "text": [
      "\r",
      "  0%|          | 0/1000 [00:00<?, ?it/s]"
     ]
    },
    {
     "name": "stdout",
     "output_type": "stream",
     "text": [
      "After merging there are 999 nodes and 354,547 edges\n",
      "Reduction:\n",
      "\t -1 (-0.1%)\n",
      "\t -0 (-0.0%)\n",
      "\n",
      "\n",
      "\n",
      "\n",
      "Active Chunk is now Chunk 2\n",
      "1000 Nodes in Chunk 2\n",
      "Adding edges to name graph...\n"
     ]
    },
    {
     "name": "stderr",
     "output_type": "stream",
     "text": [
      "100%|██████████| 1000/1000 [00:00<00:00, 3881.18it/s]\n",
      " 42%|████▏     | 417/1000 [00:00<00:00, 2061.94it/s]"
     ]
    },
    {
     "name": "stdout",
     "output_type": "stream",
     "text": [
      "Getting name part pair connectivities...\n"
     ]
    },
    {
     "name": "stderr",
     "output_type": "stream",
     "text": [
      "100%|██████████| 1000/1000 [00:00<00:00, 2052.74it/s]\n"
     ]
    },
    {
     "name": "stdout",
     "output_type": "stream",
     "text": [
      "Character-level tfidf..."
     ]
    },
    {
     "name": "stderr",
     "output_type": "stream",
     "text": [
      "100%|██████████| 15/15 [00:00<00:00, 5558.81it/s]\n",
      "100%|██████████| 15/15 [00:00<00:00, 2859.49it/s]\n",
      "  3%|▎         | 30/999 [00:00<00:03, 294.17it/s]"
     ]
    },
    {
     "name": "stdout",
     "output_type": "stream",
     "text": [
      "0.31 s...15 pairs\n",
      "Word-level tfidf...0.01 s\n",
      "Levenshtein...0.00 s\n",
      "Initials...\n",
      "0.01 s\n",
      "Name parts similarity...0.01 s\n",
      "Name likelihoods..."
     ]
    },
    {
     "name": "stderr",
     "output_type": "stream",
     "text": [
      "100%|██████████| 999/999 [00:03<00:00, 301.64it/s]\n"
     ]
    },
    {
     "name": "stdout",
     "output_type": "stream",
     "text": [
      "3.38 s\n",
      "15 pairs\n",
      "\n",
      " 0:00:03.729756\n",
      "1000 Nodes in Chunk 2\n",
      "{'nodes': ['Scientist', 'Paper'], 'hops': 2}\n",
      "Constructing coauthor graph...26.79 s\n",
      "Projecting graph...0.09 s\n",
      "Getting path lengths...0.00 s\n",
      "{'nodes': ['Scientist', 'Institution'], 'hops': 1}\n",
      "Constructing colleague graph...0.07 s\n",
      "Projecting graph...0.01 s\n",
      "Getting path lengths...0.00 s\n",
      "\n",
      " 0:00:27.182973\n"
     ]
    }
   ],
   "source": [
    "imerge.merge()"
   ]
  },
  {
   "cell_type": "markdown",
   "metadata": {},
   "source": [
    "\n",
    "### You can start the next iteration (combining all node chunks and generating new chunks of chunksize to work with) using .nextIteration() -- the iterative merger will shuffle the rows of the dataframe at each iteration so you can iterate through different chunks of nodes\n",
    "\n",
    "You can also specify a new chunksize for the next iteration using **.nextIteration(chunksize=newChunksize)**"
   ]
  },
  {
   "cell_type": "code",
   "execution_count": 15,
   "metadata": {},
   "outputs": [
    {
     "name": "stdout",
     "output_type": "stream",
     "text": [
      "shuffle rows...\n"
     ]
    },
    {
     "name": "stderr",
     "output_type": "stream",
     "text": [
      "/home/glen075/expert-data/expertToolkit/expert/entity_resolution.py:1002: FutureWarning: Sorting because non-concatenation axis is not aligned. A future version\n",
      "of pandas will change to not sort by default.\n",
      "\n",
      "To accept the future behavior, pass 'sort=False'.\n",
      "\n",
      "To retain the current behavior and silence the warning, pass 'sort=True'.\n",
      "\n",
      "  return pd.concat(list(self.nodes.values())).reset_index(drop=True)\n"
     ]
    },
    {
     "name": "stdout",
     "output_type": "stream",
     "text": [
      "1000 Nodes in Chunk 0\n",
      "Character-level tfidf..."
     ]
    },
    {
     "name": "stderr",
     "output_type": "stream",
     "text": [
      "100%|██████████| 15/15 [00:00<00:00, 4718.71it/s]\n",
      "100%|██████████| 15/15 [00:00<00:00, 2433.08it/s]\n",
      "  3%|▎         | 32/999 [00:00<00:03, 311.48it/s]"
     ]
    },
    {
     "name": "stdout",
     "output_type": "stream",
     "text": [
      "0.30 s...15 pairs\n",
      "Word-level tfidf...0.01 s\n",
      "Levenshtein...0.00 s\n",
      "Initials...\n",
      "0.01 s\n",
      "Name parts similarity...0.01 s\n",
      "Name likelihoods..."
     ]
    },
    {
     "name": "stderr",
     "output_type": "stream",
     "text": [
      "100%|██████████| 999/999 [00:03<00:00, 294.15it/s]\n"
     ]
    },
    {
     "name": "stdout",
     "output_type": "stream",
     "text": [
      "3.47 s\n",
      "15 pairs\n",
      "\n",
      " 0:00:03.811485\n",
      "1000 Nodes in Chunk 0\n",
      "{'nodes': ['Scientist', 'Paper'], 'hops': 2}\n",
      "Constructing coauthor graph...27.12 s\n",
      "Projecting graph...0.09 s\n",
      "Getting path lengths...0.00 s\n",
      "{'nodes': ['Scientist', 'Institution'], 'hops': 1}\n",
      "Constructing colleague graph...0.08 s\n",
      "Projecting graph...0.01 s\n",
      "Getting path lengths...0.00 s\n",
      "\n",
      " 0:00:27.536104\n",
      "- Reset Complete -\n",
      "\n",
      "\n",
      "Field: Scientist\n",
      "Iteration 1:\n",
      "99,574 Nodes (100 Chunks of 1,000 Nodes) - 354,547 Edges\n",
      "Active ChunkID = 0\n"
     ]
    }
   ],
   "source": [
    "imerge.nextIteration()"
   ]
  },
  {
   "cell_type": "markdown",
   "metadata": {},
   "source": [
    "### Then you can start resolving chunks in the next iteration "
   ]
  },
  {
   "cell_type": "code",
   "execution_count": 16,
   "metadata": {},
   "outputs": [
    {
     "data": {
      "application/vnd.jupyter.widget-view+json": {
       "model_id": "97538b435f604e23ac01b12ddc66f8b3",
       "version_major": 2,
       "version_minor": 0
      },
      "text/plain": [
       "IdentityMatcher(component='IdentityMatcher', props={'tree': [['Arxiv-Scientist J. Dierkes 21188', 'Arxiv-Scien…"
      ]
     },
     "metadata": {},
     "output_type": "display_data"
    }
   ],
   "source": [
    "imerge.resolve()"
   ]
  },
  {
   "cell_type": "markdown",
   "metadata": {},
   "source": [
    "### You can change which type of entities you are resolving by updating the field of focus using .updateField(newField)\n",
    "\n",
    "e.g., you can switch from resolving Scientist nodes to resolve the \"Source\" (Conference, Journal, Book) nodes.\n",
    "\n",
    "**.updateField(newField)** will save the mergeHistory and current status of nodes and edges before switching focus to the new entity type (specified by newField)"
   ]
  },
  {
   "cell_type": "code",
   "execution_count": 17,
   "metadata": {},
   "outputs": [
    {
     "data": {
      "text/html": [
       "Saving to <b>../../longroom/dataprep/Arxiv_merged/</b>\n"
      ],
      "text/plain": [
       "<IPython.core.display.HTML object>"
      ]
     },
     "metadata": {},
     "output_type": "display_data"
    },
    {
     "name": "stdout",
     "output_type": "stream",
     "text": [
      "\tSaving Nodes...\n",
      "\t\tScientist - 99,574\n",
      "\tSaving Edges...\n",
      "\t\tAuthor Of - 200,467\n",
      "\t\tPublished In - 26,651\n",
      "\t\tRelated To - 127,429\n",
      "\tSaving Merge History...\n",
      "\n",
      "\n",
      "\n",
      "shuffle rows...\n",
      "27 chunks..\n",
      "1000 Nodes in Chunk 0\n",
      "Character-level tfidf...0.37 s...9638 pairs\n",
      "Word-level tfidf...0.44 s\n",
      "Levenshtein...0.24 s\n",
      "9638 pairs\n",
      "\n",
      " 0:00:01.082011\n",
      "1000 Nodes in Chunk 0\n",
      "{'nodes': ['Source', 'Journal', 'Book', 'Conference', 'Paper'], 'hops': 1}\n",
      "Constructing colocation graph...0.00 s\n",
      "Projecting graph...0.00 s\n",
      "Getting path lengths...0.25 s\n",
      "\n",
      " 0:00:00.334120\n",
      "\n",
      "\n",
      "Field: Source\n",
      "Iteration 0:\n",
      "26,496 Nodes (27 Chunks of 1,000 Nodes) - 354,547 Edges\n",
      "Active ChunkID = 0\n"
     ]
    }
   ],
   "source": [
    "imerge.updateField('Source')"
   ]
  },
  {
   "cell_type": "code",
   "execution_count": 18,
   "metadata": {},
   "outputs": [
    {
     "data": {
      "application/vnd.jupyter.widget-view+json": {
       "model_id": "d086a3f0b1f7427fb16f9133f1b14641",
       "version_major": 2,
       "version_minor": 0
      },
      "text/plain": [
       "IdentityMatcher(component='IdentityMatcher', props={'tree': [['Arxiv-Scientist J. Dierkes 21188', 'Arxiv-Scien…"
      ]
     },
     "metadata": {},
     "output_type": "display_data"
    }
   ],
   "source": [
    "imerge.resolve()"
   ]
  },
  {
   "cell_type": "code",
   "execution_count": 19,
   "metadata": {
    "scrolled": false
   },
   "outputs": [
    {
     "name": "stdout",
     "output_type": "stream",
     "text": [
      "Before merging there are 1,000 nodes and 354,547 edges\n"
     ]
    },
    {
     "name": "stderr",
     "output_type": "stream",
     "text": [
      "\r",
      "  0%|          | 0/1000 [00:00<?, ?it/s]"
     ]
    },
    {
     "name": "stdout",
     "output_type": "stream",
     "text": [
      "After merging there are 1,000 nodes and 354,547 edges\n",
      "Reduction:\n",
      "\t -0 (-0.0%)\n",
      "\t -0 (-0.0%)\n",
      "\n",
      "\n",
      "\n",
      "\n",
      "Active Chunk is now Chunk 1\n",
      "1000 Nodes in Chunk 1\n",
      "Adding edges to name graph...\n"
     ]
    },
    {
     "name": "stderr",
     "output_type": "stream",
     "text": [
      "100%|██████████| 1000/1000 [00:00<00:00, 4004.36it/s]\n",
      " 41%|████      | 409/1000 [00:00<00:00, 1919.67it/s]"
     ]
    },
    {
     "name": "stdout",
     "output_type": "stream",
     "text": [
      "Getting name part pair connectivities...\n"
     ]
    },
    {
     "name": "stderr",
     "output_type": "stream",
     "text": [
      "100%|██████████| 1000/1000 [00:00<00:00, 2092.01it/s]\n"
     ]
    },
    {
     "name": "stdout",
     "output_type": "stream",
     "text": [
      "Character-level tfidf..."
     ]
    },
    {
     "name": "stderr",
     "output_type": "stream",
     "text": [
      "100%|██████████| 32/32 [00:00<00:00, 7270.73it/s]\n",
      "100%|██████████| 32/32 [00:00<00:00, 2870.17it/s]\n",
      "  3%|▎         | 31/999 [00:00<00:03, 303.39it/s]"
     ]
    },
    {
     "name": "stdout",
     "output_type": "stream",
     "text": [
      "0.31 s...32 pairs\n",
      "Word-level tfidf...0.01 s\n",
      "Levenshtein...0.00 s\n",
      "Initials...\n",
      "0.01 s\n",
      "Name parts similarity...0.02 s\n",
      "Name likelihoods..."
     ]
    },
    {
     "name": "stderr",
     "output_type": "stream",
     "text": [
      "100%|██████████| 999/999 [00:03<00:00, 297.87it/s]\n"
     ]
    },
    {
     "name": "stdout",
     "output_type": "stream",
     "text": [
      "3.42 s\n",
      "32 pairs\n",
      "\n",
      " 0:00:03.786068\n",
      "1000 Nodes in Chunk 1\n",
      "{'nodes': ['Scientist', 'Paper'], 'hops': 2}\n",
      "Constructing coauthor graph...27.55 s\n",
      "Projecting graph...0.10 s\n",
      "Getting path lengths...0.01 s\n",
      "{'nodes': ['Scientist', 'Institution'], 'hops': 1}\n",
      "Constructing colleague graph...0.07 s\n",
      "Projecting graph...0.01 s\n",
      "Getting path lengths...0.00 s\n",
      "\n",
      " 0:00:27.976466\n"
     ]
    }
   ],
   "source": [
    "imerge.merge()"
   ]
  },
  {
   "cell_type": "code",
   "execution_count": 20,
   "metadata": {},
   "outputs": [
    {
     "name": "stdout",
     "output_type": "stream",
     "text": [
      "No potential pairs to resolve given constraints\n"
     ]
    },
    {
     "data": {
      "application/vnd.jupyter.widget-view+json": {
       "model_id": "7a011591d0b44cbeaf1874724bb24b7c",
       "version_major": 2,
       "version_minor": 0
      },
      "text/plain": [
       "IdentityMatcher(component='IdentityMatcher', props={'tree': [], 'clusters': [], 'context': {}, 'display': {}, …"
      ]
     },
     "metadata": {},
     "output_type": "display_data"
    }
   ],
   "source": [
    "imerge.resolve()"
   ]
  },
  {
   "cell_type": "code",
   "execution_count": 21,
   "metadata": {},
   "outputs": [
    {
     "name": "stdout",
     "output_type": "stream",
     "text": [
      "Before merging there are 1,000 nodes and 354,547 edges\n"
     ]
    },
    {
     "name": "stderr",
     "output_type": "stream",
     "text": [
      "\r",
      "  0%|          | 0/1000 [00:00<?, ?it/s]"
     ]
    },
    {
     "name": "stdout",
     "output_type": "stream",
     "text": [
      "After merging there are 1,000 nodes and 354,547 edges\n",
      "Reduction:\n",
      "\t -0 (-0.0%)\n",
      "\t -0 (-0.0%)\n",
      "\n",
      "\n",
      "\n",
      "\n",
      "Active Chunk is now Chunk 2\n",
      "1000 Nodes in Chunk 2\n",
      "Adding edges to name graph...\n"
     ]
    },
    {
     "name": "stderr",
     "output_type": "stream",
     "text": [
      "100%|██████████| 1000/1000 [00:00<00:00, 3762.64it/s]\n",
      " 41%|████      | 411/1000 [00:00<00:00, 2093.92it/s]"
     ]
    },
    {
     "name": "stdout",
     "output_type": "stream",
     "text": [
      "Getting name part pair connectivities...\n"
     ]
    },
    {
     "name": "stderr",
     "output_type": "stream",
     "text": [
      "100%|██████████| 1000/1000 [00:00<00:00, 2054.45it/s]\n"
     ]
    },
    {
     "name": "stdout",
     "output_type": "stream",
     "text": [
      "Character-level tfidf..."
     ]
    },
    {
     "name": "stderr",
     "output_type": "stream",
     "text": [
      "100%|██████████| 27/27 [00:00<00:00, 6487.15it/s]\n",
      "100%|██████████| 27/27 [00:00<00:00, 2496.55it/s]\n",
      "  3%|▎         | 32/1000 [00:00<00:03, 311.48it/s]"
     ]
    },
    {
     "name": "stdout",
     "output_type": "stream",
     "text": [
      "0.32 s...27 pairs\n",
      "Word-level tfidf...0.01 s\n",
      "Levenshtein...0.00 s\n",
      "Initials...\n",
      "0.01 s\n",
      "Name parts similarity...0.01 s\n",
      "Name likelihoods..."
     ]
    },
    {
     "name": "stderr",
     "output_type": "stream",
     "text": [
      "100%|██████████| 1000/1000 [00:03<00:00, 297.88it/s]\n"
     ]
    },
    {
     "name": "stdout",
     "output_type": "stream",
     "text": [
      "3.43 s\n",
      "27 pairs\n",
      "\n",
      " 0:00:03.797573\n",
      "1000 Nodes in Chunk 2\n",
      "{'nodes': ['Scientist', 'Paper'], 'hops': 2}\n",
      "Constructing coauthor graph...26.59 s\n",
      "Projecting graph...0.10 s\n",
      "Getting path lengths...0.01 s\n",
      "{'nodes': ['Scientist', 'Institution'], 'hops': 1}\n",
      "Constructing colleague graph...0.07 s\n",
      "Projecting graph...0.01 s\n",
      "Getting path lengths...0.00 s\n",
      "\n",
      " 0:00:27.019250\n"
     ]
    }
   ],
   "source": [
    "imerge.merge()"
   ]
  },
  {
   "cell_type": "code",
   "execution_count": 22,
   "metadata": {},
   "outputs": [
    {
     "name": "stdout",
     "output_type": "stream",
     "text": [
      "No potential pairs to resolve given constraints\n"
     ]
    },
    {
     "data": {
      "application/vnd.jupyter.widget-view+json": {
       "model_id": "a7544baf56644b9cadf3d458c8d7cb51",
       "version_major": 2,
       "version_minor": 0
      },
      "text/plain": [
       "IdentityMatcher(component='IdentityMatcher', props={'tree': [], 'clusters': [], 'context': {}, 'display': {}, …"
      ]
     },
     "metadata": {},
     "output_type": "display_data"
    }
   ],
   "source": [
    "imerge.resolve()"
   ]
  },
  {
   "cell_type": "markdown",
   "metadata": {},
   "source": [
    "\n",
    "### You can save the nodes, edges, and mergeHistory at any time. Doing so does not change the state of the interactiveMerger, so you can .save() at any time and then continue to resolve, merge, start new iterations, or updateField to resolve another type of entity."
   ]
  },
  {
   "cell_type": "code",
   "execution_count": 23,
   "metadata": {},
   "outputs": [
    {
     "data": {
      "text/html": [
       "Saving to <b>../../longroom/dataprep/Arxiv_merged/</b>\n"
      ],
      "text/plain": [
       "<IPython.core.display.HTML object>"
      ]
     },
     "metadata": {},
     "output_type": "display_data"
    },
    {
     "name": "stderr",
     "output_type": "stream",
     "text": [
      "/home/glen075/expert-data/expertToolkit/expert/entity_resolution.py:1500: FutureWarning: Sorting because non-concatenation axis is not aligned. A future version\n",
      "of pandas will change to not sort by default.\n",
      "\n",
      "To accept the future behavior, pass 'sort=False'.\n",
      "\n",
      "To retain the current behavior and silence the warning, pass 'sort=True'.\n",
      "\n",
      "  nodes = pd.concat(list(self.nodes.values())).reset_index(drop=True)\n"
     ]
    },
    {
     "name": "stdout",
     "output_type": "stream",
     "text": [
      "\tSaving Nodes...\n",
      "\t\tScientist - 99,574\n",
      "\tSaving Edges...\n",
      "\t\tAuthor Of - 200,467\n",
      "\t\tPublished In - 26,651\n",
      "\t\tRelated To - 127,429\n",
      "\tSaving Merge History...\n"
     ]
    }
   ],
   "source": [
    "imerge.save()"
   ]
  }
 ],
 "metadata": {
  "kernelspec": {
   "display_name": "Python 3",
   "language": "python",
   "name": "python3"
  },
  "language_info": {
   "codemirror_mode": {
    "name": "ipython",
    "version": 3
   },
   "file_extension": ".py",
   "mimetype": "text/x-python",
   "name": "python",
   "nbconvert_exporter": "python",
   "pygments_lexer": "ipython3",
   "version": "3.7.3"
  }
 },
 "nbformat": 4,
 "nbformat_minor": 2
}
